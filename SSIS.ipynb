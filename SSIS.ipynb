{
 "cells": [
  {
   "cell_type": "code",
   "execution_count": null,
   "metadata": {},
   "outputs": [
    {
     "name": "stdout",
     "output_type": "stream",
     "text": [
      "--------------------------------------\n",
      " Welcome to Student Management System\n",
      "---------------------------------------\n",
      "1. Add New Student\n",
      "2. View Students\n",
      "3. Search Student\n",
      "4. Update Student\n",
      "5. Delete Student\n",
      "6. Quit\n"
     ]
    },
    {
     "name": "stdin",
     "output_type": "stream",
     "text": [
      "Enter your choice:  2\n"
     ]
    },
    {
     "name": "stdout",
     "output_type": "stream",
     "text": [
      "--- Student Records ---\n",
      "ID no.\t |Name\t |Year Level\t |Gender\t |Course\t |\n",
      "-----------------------------------------------------------------\n",
      "heh\t |dsa]\t |dsa\t |dsa\t |dsa\t |\n",
      "\n",
      "\n",
      "\n",
      "2019-0582\t |Yancha, Charlemagne Theodore\t |2\t |Male\t |Computer Science\t |\n",
      "\n",
      "\n",
      "\n"
     ]
    },
    {
     "name": "stdin",
     "output_type": "stream",
     "text": [
      "Press any key to continue 5\n"
     ]
    },
    {
     "name": "stdout",
     "output_type": "stream",
     "text": [
      "--------------------------------------\n",
      " Welcome to Student Management System\n",
      "---------------------------------------\n",
      "1. Add New Student\n",
      "2. View Students\n",
      "3. Search Student\n",
      "4. Update Student\n",
      "5. Delete Student\n",
      "6. Quit\n"
     ]
    },
    {
     "name": "stdin",
     "output_type": "stream",
     "text": [
      "Enter your choice:  5\n"
     ]
    },
    {
     "name": "stdout",
     "output_type": "stream",
     "text": [
      "--- Delete Student ---\n"
     ]
    },
    {
     "name": "stdin",
     "output_type": "stream",
     "text": [
      "Enter ID no. to delete:  heh\n"
     ]
    },
    {
     "name": "stdout",
     "output_type": "stream",
     "text": [
      "ID no.  heh deleted successfully\n"
     ]
    },
    {
     "name": "stdin",
     "output_type": "stream",
     "text": [
      "Press any key to continue \n"
     ]
    },
    {
     "name": "stdout",
     "output_type": "stream",
     "text": [
      "--------------------------------------\n",
      " Welcome to Student Management System\n",
      "---------------------------------------\n",
      "1. Add New Student\n",
      "2. View Students\n",
      "3. Search Student\n",
      "4. Update Student\n",
      "5. Delete Student\n",
      "6. Quit\n"
     ]
    },
    {
     "name": "stdin",
     "output_type": "stream",
     "text": [
      "Enter your choice:  2\n"
     ]
    },
    {
     "name": "stdout",
     "output_type": "stream",
     "text": [
      "--- Student Records ---\n",
      "ID no.\t |Name\t |Year Level\t |Gender\t |Course\t |\n",
      "-----------------------------------------------------------------\n",
      "2019-0582\t |Yancha, Charlemagne Theodore\t |2\t |Male\t |Computer Science\t |\n",
      "\n",
      "\n",
      "\n"
     ]
    }
   ],
   "source": [
    "# Student Management System\n",
    "\"\"\"\n",
    "Fields :- ['ID no.\\tEx.2000-0001', 'Name\\tEx.CRUZ, Juan', 'Year Level\\tEx.2', 'Gender\\tEx.Male/Female/Others', 'Course\\Ex.Chemical Engineering']\n",
    "1. Add New Student\n",
    "2. View Students\n",
    "3. Search Student\n",
    "4. Update Student\n",
    "5. Delete Student\n",
    "6. Quit\n",
    "\"\"\"\n",
    "\n",
    "import csv\n",
    "# Define global variables\n",
    "student_fields = ['ID no.', 'Name', 'Year Level', 'Gender', 'Course']\n",
    "student_database = 'students.csv'\n",
    "\n",
    "\n",
    "def display_menu():\n",
    "    print(\"--------------------------------------\")\n",
    "    print(\" Welcome to Student Management System\")\n",
    "    print(\"---------------------------------------\")\n",
    "    print(\"1. Add New Student\")\n",
    "    print(\"2. View Students\")\n",
    "    print(\"3. Search Student\")\n",
    "    print(\"4. Update Student\")\n",
    "    print(\"5. Delete Student\")\n",
    "    print(\"6. Quit\")\n",
    "\n",
    "\n",
    "def add_student():\n",
    "    print(\"-------------------------\")\n",
    "    print(\"Add Student Information\")\n",
    "    print(\"-------------------------\")\n",
    "    global student_fields\n",
    "    global student_database\n",
    "\n",
    "    student_data = []\n",
    "    for field in student_fields:\n",
    "        value = input(\"Enter \" + field + \": \")\n",
    "        student_data.append(value)\n",
    "\n",
    "    with open(student_database, \"a\", encoding=\"utf-8\") as f:\n",
    "        writer = csv.writer(f)\n",
    "        writer.writerows([student_data])\n",
    "\n",
    "    print(\"Data saved successfully\")\n",
    "    input(\"Press any key to continue\")\n",
    "    return\n",
    "\n",
    "\n",
    "def view_students():\n",
    "    global student_fields\n",
    "    global student_database\n",
    "\n",
    "    print(\"--- Student Records ---\")\n",
    "\n",
    "    with open(student_database, \"r\", encoding=\"utf-8\") as f:\n",
    "        reader = csv.reader(f)\n",
    "        for x in student_fields:\n",
    "            print(x, end='\\t |')\n",
    "        print(\"\\n-----------------------------------------------------------------\")\n",
    "\n",
    "        for row in reader:\n",
    "            for item in row:\n",
    "                print(item, end=\"\\t |\")\n",
    "            print(\"\\n\")\n",
    "\n",
    "    input(\"Press any key to continue\")\n",
    "\n",
    "\n",
    "def search_student():\n",
    "    global student_fields\n",
    "    global student_database\n",
    "\n",
    "    print(\"--- Search Student ---\")\n",
    "    roll = input(\"Enter ID no. to search: \")\n",
    "    with open(student_database, \"r\", encoding=\"utf-8\") as f:\n",
    "        reader = csv.reader(f)\n",
    "        for row in reader:\n",
    "            if len(row) > 0:\n",
    "                if roll == row[0]:\n",
    "                    print(\"----- Student Found -----\")\n",
    "                    print(\"ID: \", row[0])\n",
    "                    print(\"Name: \", row[1])\n",
    "                    print(\"Year Level: \", row[2])\n",
    "                    print(\"Gender: \", row[3])\n",
    "                    print(\"Course: \", row[4])\n",
    "                    break\n",
    "        else:\n",
    "            print(\"ID No. not found in our database\")\n",
    "    input(\"Press any key to continue\")\n",
    "\n",
    "\n",
    "def update_student():\n",
    "    global student_fields\n",
    "    global student_database\n",
    "\n",
    "    print(\"--- Update Student ---\")\n",
    "    roll = input(\"Enter ID no. to update: \")\n",
    "    index_student = None\n",
    "    updated_data = []\n",
    "    with open(student_database, \"r\", encoding=\"utf-8\") as f:\n",
    "        reader = csv.reader(f)\n",
    "        counter = 0\n",
    "        for row in reader:\n",
    "            if len(row) > 0:\n",
    "                if roll == row[0]:\n",
    "                    index_student = counter\n",
    "                    print(\"Student Found: at index \",index_student)\n",
    "                    student_data = []\n",
    "                    for field in student_fields:\n",
    "                        value = input(\"Enter \" + field + \": \")\n",
    "                        student_data.append(value)\n",
    "                    updated_data.append(student_data)\n",
    "                else:\n",
    "                    updated_data.append(row)\n",
    "                counter += 1\n",
    "\n",
    "\n",
    "    # Check if the record is found or not\n",
    "    if index_student is not None:\n",
    "        with open(student_database, \"w\", encoding=\"utf-8\") as f:\n",
    "            writer = csv.writer(f)\n",
    "            writer.writerows(updated_data)\n",
    "    else:\n",
    "        print(\"ID No. not found in our database\")\n",
    "\n",
    "    input(\"Press any key to continue\")\n",
    "\n",
    "\n",
    "def delete_student():\n",
    "    global student_fields\n",
    "    global student_database\n",
    "\n",
    "    print(\"--- Delete Student ---\")\n",
    "    roll = input(\"Enter ID no. to delete: \")\n",
    "    student_found = False\n",
    "    updated_data = []\n",
    "    with open(student_database, \"r\", encoding=\"utf-8\") as f:\n",
    "        reader = csv.reader(f)\n",
    "        counter = 0\n",
    "        for row in reader:\n",
    "            if len(row) > 0:\n",
    "                if roll != row[0]:\n",
    "                    updated_data.append(row)\n",
    "                    counter += 1\n",
    "                else:\n",
    "                    student_found = True\n",
    "\n",
    "    if student_found is True:\n",
    "        with open(student_database, \"w\", encoding=\"utf-8\") as f:\n",
    "            writer = csv.writer(f)\n",
    "            writer.writerows(updated_data)\n",
    "        print(\"ID no. \", roll, \"deleted successfully\")\n",
    "    else:\n",
    "        print(\"ID No. not found in our database\")\n",
    "\n",
    "    input(\"Press any key to continue\")\n",
    "\n",
    "while True:\n",
    "    display_menu()\n",
    "\n",
    "    choice = input(\"Enter your choice: \")\n",
    "    if choice == '1':\n",
    "        add_student()\n",
    "    elif choice == '2':\n",
    "        view_students()\n",
    "    elif choice == '3':\n",
    "        search_student()\n",
    "    elif choice == '4':\n",
    "        update_student()\n",
    "    elif choice == '5':\n",
    "        delete_student()\n",
    "    else:\n",
    "        break\n",
    "\n",
    "print(\"-------------------------------\")\n",
    "print(\" Thank you for using our system\")\n",
    "print(\"-------------------------------\")"
   ]
  },
  {
   "cell_type": "code",
   "execution_count": null,
   "metadata": {},
   "outputs": [],
   "source": []
  }
 ],
 "metadata": {
  "kernelspec": {
   "display_name": "Python 3",
   "language": "python",
   "name": "python3"
  },
  "language_info": {
   "codemirror_mode": {
    "name": "ipython",
    "version": 3
   },
   "file_extension": ".py",
   "mimetype": "text/x-python",
   "name": "python",
   "nbconvert_exporter": "python",
   "pygments_lexer": "ipython3",
   "version": "3.8.5"
  }
 },
 "nbformat": 4,
 "nbformat_minor": 4
}
